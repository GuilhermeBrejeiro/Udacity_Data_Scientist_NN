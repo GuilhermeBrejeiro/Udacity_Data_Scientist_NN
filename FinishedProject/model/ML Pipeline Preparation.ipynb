{
 "cells": [
  {
   "cell_type": "markdown",
   "metadata": {},
   "source": [
    "# ML Pipeline Preparation\n",
    "Follow the instructions below to help you create your ML pipeline.\n",
    "### 1. Import libraries and load data from database.\n",
    "- Import Python libraries\n",
    "- Load dataset from database with [`read_sql_table`](https://pandas.pydata.org/pandas-docs/stable/generated/pandas.read_sql_table.html)\n",
    "- Define feature and target variables X and Y"
   ]
  },
  {
   "cell_type": "code",
   "execution_count": 2,
   "metadata": {},
   "outputs": [
    {
     "name": "stdout",
     "output_type": "stream",
     "text": [
      "[nltk_data] Downloading package punkt to /root/nltk_data...\n",
      "[nltk_data]   Unzipping tokenizers/punkt.zip.\n",
      "[nltk_data] Downloading package wordnet to /root/nltk_data...\n",
      "[nltk_data]   Unzipping corpora/wordnet.zip.\n",
      "[nltk_data] Downloading package averaged_perceptron_tagger to\n",
      "[nltk_data]     /root/nltk_data...\n",
      "[nltk_data]   Unzipping taggers/averaged_perceptron_tagger.zip.\n",
      "[nltk_data] Downloading package stopwords to /root/nltk_data...\n",
      "[nltk_data]   Unzipping corpora/stopwords.zip.\n"
     ]
    },
    {
     "data": {
      "text/plain": [
       "True"
      ]
     },
     "execution_count": 2,
     "metadata": {},
     "output_type": "execute_result"
    }
   ],
   "source": [
    "# import libraries\n",
    "import pandas as pd\n",
    "import numpy as np\n",
    "import pickle\n",
    "from sqlalchemy import create_engine\n",
    "import re\n",
    "import nltk \n",
    "from nltk.corpus import stopwords\n",
    "from nltk.tokenize import word_tokenize\n",
    "from nltk.stem.wordnet import WordNetLemmatizer\n",
    "from sklearn.pipeline import Pipeline\n",
    "from sklearn.feature_extraction.text import CountVectorizer, TfidfTransformer\n",
    "from sklearn.model_selection import train_test_split, GridSearchCV\n",
    "from sklearn.multioutput import MultiOutputClassifier\n",
    "from sklearn.metrics import precision_score, recall_score, f1_score\n",
    "from sklearn.ensemble import RandomForestClassifier, AdaBoostClassifier\n",
    "\n",
    "nltk.download(['punkt', 'wordnet', 'averaged_perceptron_tagger','stopwords'])"
   ]
  },
  {
   "cell_type": "code",
   "execution_count": 3,
   "metadata": {},
   "outputs": [],
   "source": [
    "# load data from database\n",
    "engine = create_engine('sqlite:///DisasterResponseProject.db')\n",
    "df = pd.read_sql_table('DisasterResponseProject', engine)\n",
    "X = df['message']\n",
    "Y = df.iloc[:,4:]"
   ]
  },
  {
   "cell_type": "markdown",
   "metadata": {},
   "source": [
    "### 2. Write a tokenization function to process your text data"
   ]
  },
  {
   "cell_type": "code",
   "execution_count": 4,
   "metadata": {},
   "outputs": [],
   "source": [
    "def tokenize(text):\n",
    "    # Define url pattern\n",
    "    url_re = 'http[s]?://(?:[a-zA-Z]|[0-9]|[$-_@.&+]|[!*\\(\\), ]|(?:%[0-9a-fA-F][0-9a-fA-F]))+'\n",
    "    \n",
    "    # Detect and replace urls\n",
    "    detected_urls = re.findall(url_re, text)\n",
    "    for url in detected_urls:\n",
    "        text = text.replace(url, \"urlplaceholder\")\n",
    "    \n",
    "    # tokenize sentences\n",
    "    tokens = word_tokenize(text)\n",
    "    lemmatizer = WordNetLemmatizer()\n",
    "    \n",
    "    # save cleaned tokens\n",
    "    clean_tokens = [lemmatizer.lemmatize(x).lower().strip() for x in tokens]\n",
    "    \n",
    "    # remove stopwords\n",
    "    STOPWORDS = list(set(stopwords.words('english')))\n",
    "    clean_tokens = [token for token in clean_tokens if token not in STOPWORDS]\n",
    "    \n",
    "    return clean_tokens"
   ]
  },
  {
   "cell_type": "markdown",
   "metadata": {},
   "source": [
    "### 3. Build a machine learning pipeline\n",
    "This machine pipeline should take in the `message` column as input and output classification results on the other 36 categories in the dataset. You may find the [MultiOutputClassifier](http://scikit-learn.org/stable/modules/generated/sklearn.multioutput.MultiOutputClassifier.html) helpful for predicting multiple target variables."
   ]
  },
  {
   "cell_type": "code",
   "execution_count": 5,
   "metadata": {},
   "outputs": [],
   "source": [
    "pipeline = Pipeline([\n",
    "                        ('vect', CountVectorizer(tokenizer=tokenize)),\n",
    "                        ('tfidf', TfidfTransformer()),\n",
    "                        ('clf', MultiOutputClassifier(RandomForestClassifier()))\n",
    "    ])"
   ]
  },
  {
   "cell_type": "markdown",
   "metadata": {},
   "source": [
    "### 4. Train pipeline\n",
    "- Split data into train and test sets\n",
    "- Train pipeline"
   ]
  },
  {
   "cell_type": "code",
   "execution_count": 6,
   "metadata": {},
   "outputs": [
    {
     "data": {
      "text/plain": [
       "Pipeline(memory=None,\n",
       "     steps=[('vect', CountVectorizer(analyzer='word', binary=False, decode_error='strict',\n",
       "        dtype=<class 'numpy.int64'>, encoding='utf-8', input='content',\n",
       "        lowercase=True, max_df=1.0, max_features=None, min_df=1,\n",
       "        ngram_range=(1, 1), preprocessor=None, stop_words=None,\n",
       "        strip...oob_score=False, random_state=None, verbose=0,\n",
       "            warm_start=False),\n",
       "           n_jobs=1))])"
      ]
     },
     "execution_count": 6,
     "metadata": {},
     "output_type": "execute_result"
    }
   ],
   "source": [
    "X_train, X_test, y_train, y_test = train_test_split(X, Y)\n",
    "\n",
    "pipeline.fit(X_train, y_train)"
   ]
  },
  {
   "cell_type": "markdown",
   "metadata": {},
   "source": [
    "### 5. Test your model\n",
    "Report the f1 score, precision and recall for each output category of the dataset. You can do this by iterating through the columns and calling sklearn's `classification_report` on each."
   ]
  },
  {
   "cell_type": "code",
   "execution_count": 7,
   "metadata": {},
   "outputs": [
    {
     "name": "stdout",
     "output_type": "stream",
     "text": [
      "                        f1_score  precision    recall\n",
      "related                 0.795545   0.795545  0.795545\n",
      "request                 0.887855   0.887855  0.887855\n",
      "offer                   0.996033   0.996033  0.996033\n",
      "aid_related             0.745346   0.745346  0.745346\n",
      "medical_help            0.925694   0.925694  0.925694\n",
      "medical_products        0.950259   0.950259  0.950259\n",
      "search_and_rescue       0.973604   0.973604  0.973604\n",
      "security                0.981691   0.981691  0.981691\n",
      "military                0.967653   0.967653  0.967653\n",
      "child_alone             1.000000   1.000000  1.000000\n",
      "water                   0.947055   0.947055  0.947055\n",
      "food                    0.930272   0.930272  0.930272\n",
      "shelter                 0.935459   0.935459  0.935459\n",
      "clothing                0.983522   0.983522  0.983522\n",
      "money                   0.974977   0.974977  0.974977\n",
      "missing_people          0.987489   0.987489  0.987489\n",
      "refugees                0.965517   0.965517  0.965517\n",
      "death                   0.960635   0.960635  0.960635\n",
      "other_aid               0.874886   0.874886  0.874886\n",
      "infrastructure_related  0.935002   0.935002  0.935002\n",
      "transport               0.960177   0.960177  0.960177\n",
      "buildings               0.955600   0.955600  0.955600\n",
      "electricity             0.980928   0.980928  0.980928\n",
      "tools                   0.994965   0.994965  0.994965\n",
      "hospitals               0.991303   0.991303  0.991303\n",
      "shops                   0.994355   0.994355  0.994355\n",
      "aid_centers             0.988099   0.988099  0.988099\n",
      "other_infrastructure    0.955600   0.955600  0.955600\n",
      "weather_related         0.863747   0.863747  0.863747\n",
      "floods                  0.944156   0.944156  0.944156\n",
      "storm                   0.929204   0.929204  0.929204\n",
      "fire                    0.988099   0.988099  0.988099\n",
      "earthquake              0.963076   0.963076  0.963076\n",
      "cold                    0.981233   0.981233  0.981233\n",
      "other_weather           0.953769   0.953769  0.953769\n",
      "direct_report           0.848489   0.848489  0.848489\n"
     ]
    }
   ],
   "source": [
    "y_pred = pipeline.predict(X_test)\n",
    "values = []\n",
    "for i in range(len(y_test.columns)):\n",
    "      \n",
    "        values.append([f1_score(y_test.iloc[:, i].values, y_pred[:, i], average='micro'),\n",
    "        precision_score(y_test.iloc[:, i].values, y_pred[:, i], average='micro'),\n",
    "        recall_score(y_test.iloc[:, i].values, y_pred[:, i], average='micro')])\n",
    "        \n",
    "values = pd.DataFrame(values, columns=['f1_score', 'precision', 'recall'], index = y_test.columns)\n",
    "        \n",
    "print(values)"
   ]
  },
  {
   "cell_type": "markdown",
   "metadata": {},
   "source": [
    "### 6. Improve your model\n",
    "Use grid search to find better parameters. "
   ]
  },
  {
   "cell_type": "code",
   "execution_count": 8,
   "metadata": {},
   "outputs": [
    {
     "name": "stdout",
     "output_type": "stream",
     "text": [
      "Fitting 5 folds for each of 4 candidates, totalling 20 fits\n",
      "[CV] clf__estimator__max_depth=1, clf__estimator__n_estimators=50 ....\n",
      "[CV]  clf__estimator__max_depth=1, clf__estimator__n_estimators=50, total=  24.9s\n",
      "[CV] clf__estimator__max_depth=1, clf__estimator__n_estimators=50 ....\n"
     ]
    },
    {
     "name": "stderr",
     "output_type": "stream",
     "text": [
      "[Parallel(n_jobs=-1)]: Done   1 out of   1 | elapsed:   40.7s remaining:    0.0s\n"
     ]
    },
    {
     "name": "stdout",
     "output_type": "stream",
     "text": [
      "[CV]  clf__estimator__max_depth=1, clf__estimator__n_estimators=50, total=  24.6s\n",
      "[CV] clf__estimator__max_depth=1, clf__estimator__n_estimators=50 ....\n",
      "[CV]  clf__estimator__max_depth=1, clf__estimator__n_estimators=50, total=  25.0s\n",
      "[CV] clf__estimator__max_depth=1, clf__estimator__n_estimators=50 ....\n",
      "[CV]  clf__estimator__max_depth=1, clf__estimator__n_estimators=50, total=  24.8s\n",
      "[CV] clf__estimator__max_depth=1, clf__estimator__n_estimators=50 ....\n",
      "[CV]  clf__estimator__max_depth=1, clf__estimator__n_estimators=50, total=  24.9s\n",
      "[CV] clf__estimator__max_depth=1, clf__estimator__n_estimators=100 ...\n",
      "[CV]  clf__estimator__max_depth=1, clf__estimator__n_estimators=100, total=  31.0s\n",
      "[CV] clf__estimator__max_depth=1, clf__estimator__n_estimators=100 ...\n",
      "[CV]  clf__estimator__max_depth=1, clf__estimator__n_estimators=100, total=  31.2s\n",
      "[CV] clf__estimator__max_depth=1, clf__estimator__n_estimators=100 ...\n",
      "[CV]  clf__estimator__max_depth=1, clf__estimator__n_estimators=100, total=  30.8s\n",
      "[CV] clf__estimator__max_depth=1, clf__estimator__n_estimators=100 ...\n",
      "[CV]  clf__estimator__max_depth=1, clf__estimator__n_estimators=100, total=  31.3s\n",
      "[CV] clf__estimator__max_depth=1, clf__estimator__n_estimators=100 ...\n",
      "[CV]  clf__estimator__max_depth=1, clf__estimator__n_estimators=100, total=  31.2s\n",
      "[CV] clf__estimator__max_depth=3, clf__estimator__n_estimators=50 ....\n",
      "[CV]  clf__estimator__max_depth=3, clf__estimator__n_estimators=50, total=  26.3s\n",
      "[CV] clf__estimator__max_depth=3, clf__estimator__n_estimators=50 ....\n",
      "[CV]  clf__estimator__max_depth=3, clf__estimator__n_estimators=50, total=  26.3s\n",
      "[CV] clf__estimator__max_depth=3, clf__estimator__n_estimators=50 ....\n",
      "[CV]  clf__estimator__max_depth=3, clf__estimator__n_estimators=50, total=  26.0s\n",
      "[CV] clf__estimator__max_depth=3, clf__estimator__n_estimators=50 ....\n",
      "[CV]  clf__estimator__max_depth=3, clf__estimator__n_estimators=50, total=  26.2s\n",
      "[CV] clf__estimator__max_depth=3, clf__estimator__n_estimators=50 ....\n",
      "[CV]  clf__estimator__max_depth=3, clf__estimator__n_estimators=50, total=  26.1s\n",
      "[CV] clf__estimator__max_depth=3, clf__estimator__n_estimators=100 ...\n",
      "[CV]  clf__estimator__max_depth=3, clf__estimator__n_estimators=100, total=  33.9s\n",
      "[CV] clf__estimator__max_depth=3, clf__estimator__n_estimators=100 ...\n",
      "[CV]  clf__estimator__max_depth=3, clf__estimator__n_estimators=100, total=  33.9s\n",
      "[CV] clf__estimator__max_depth=3, clf__estimator__n_estimators=100 ...\n",
      "[CV]  clf__estimator__max_depth=3, clf__estimator__n_estimators=100, total=  34.0s\n",
      "[CV] clf__estimator__max_depth=3, clf__estimator__n_estimators=100 ...\n",
      "[CV]  clf__estimator__max_depth=3, clf__estimator__n_estimators=100, total=  33.8s\n",
      "[CV] clf__estimator__max_depth=3, clf__estimator__n_estimators=100 ...\n",
      "[CV]  clf__estimator__max_depth=3, clf__estimator__n_estimators=100, total=  33.9s\n"
     ]
    },
    {
     "name": "stderr",
     "output_type": "stream",
     "text": [
      "[Parallel(n_jobs=-1)]: Done  20 out of  20 | elapsed: 15.5min finished\n"
     ]
    },
    {
     "data": {
      "text/plain": [
       "GridSearchCV(cv=5, error_score='raise',\n",
       "       estimator=Pipeline(memory=None,\n",
       "     steps=[('vect', CountVectorizer(analyzer='word', binary=False, decode_error='strict',\n",
       "        dtype=<class 'numpy.int64'>, encoding='utf-8', input='content',\n",
       "        lowercase=True, max_df=1.0, max_features=None, min_df=1,\n",
       "        ngram_range=(1, 1), preprocessor=None, stop_words=None,\n",
       "        strip...oob_score=False, random_state=None, verbose=0,\n",
       "            warm_start=False),\n",
       "           n_jobs=1))]),\n",
       "       fit_params=None, iid=True, n_jobs=-1,\n",
       "       param_grid={'clf__estimator__max_depth': [1, 3], 'clf__estimator__n_estimators': [50, 100]},\n",
       "       pre_dispatch='2*n_jobs', refit=True, return_train_score='warn',\n",
       "       scoring=None, verbose=2)"
      ]
     },
     "execution_count": 8,
     "metadata": {},
     "output_type": "execute_result"
    }
   ],
   "source": [
    "parameters = {\n",
    "    \"clf__estimator__max_depth\": [1, 3],\n",
    "    \"clf__estimator__n_estimators\": [50, 100]\n",
    "}\n",
    "\n",
    "cv = GridSearchCV(estimator=pipeline, param_grid=parameters, n_jobs=-1, cv=5, verbose=2)\n",
    "\n",
    "cv.fit(X_train, y_train)"
   ]
  },
  {
   "cell_type": "markdown",
   "metadata": {},
   "source": [
    "### 7. Test your model\n",
    "Show the accuracy, precision, and recall of the tuned model.  \n",
    "\n",
    "Since this project focuses on code quality, process, and  pipelines, there is no minimum performance metric needed to pass. However, make sure to fine tune your models for accuracy, precision and recall to make your project stand out - especially for your portfolio!"
   ]
  },
  {
   "cell_type": "code",
   "execution_count": 9,
   "metadata": {},
   "outputs": [
    {
     "name": "stdout",
     "output_type": "stream",
     "text": [
      "                        f1_score  precision    recall\n",
      "related                 0.756790   0.756790  0.756790\n",
      "request                 0.831096   0.831096  0.831096\n",
      "offer                   0.996033   0.996033  0.996033\n",
      "aid_related             0.587122   0.587122  0.587122\n",
      "medical_help            0.924779   0.924779  0.924779\n",
      "medical_products        0.948734   0.948734  0.948734\n",
      "search_and_rescue       0.973146   0.973146  0.973146\n",
      "security                0.981843   0.981843  0.981843\n",
      "military                0.966128   0.966128  0.966128\n",
      "child_alone             1.000000   1.000000  1.000000\n",
      "water                   0.935459   0.935459  0.935459\n",
      "food                    0.887092   0.887092  0.887092\n",
      "shelter                 0.913030   0.913030  0.913030\n",
      "clothing                0.982301   0.982301  0.982301\n",
      "money                   0.974214   0.974214  0.974214\n",
      "missing_people          0.987336   0.987336  0.987336\n",
      "refugees                0.964602   0.964602  0.964602\n",
      "death                   0.954074   0.954074  0.954074\n",
      "other_aid               0.872902   0.872902  0.872902\n",
      "infrastructure_related  0.936985   0.936985  0.936985\n",
      "transport               0.958346   0.958346  0.958346\n",
      "buildings               0.950107   0.950107  0.950107\n",
      "electricity             0.980775   0.980775  0.980775\n",
      "tools                   0.994965   0.994965  0.994965\n",
      "hospitals               0.991303   0.991303  0.991303\n",
      "shops                   0.994355   0.994355  0.994355\n",
      "aid_centers             0.988099   0.988099  0.988099\n",
      "other_infrastructure    0.956820   0.956820  0.956820\n",
      "weather_related         0.727342   0.727342  0.727342\n",
      "floods                  0.922490   0.922490  0.922490\n",
      "storm                   0.910284   0.910284  0.910284\n",
      "fire                    0.988099   0.988099  0.988099\n",
      "earthquake              0.903265   0.903265  0.903265\n",
      "cold                    0.980317   0.980317  0.980317\n",
      "other_weather           0.951633   0.951633  0.951633\n",
      "direct_report           0.805157   0.805157  0.805157\n"
     ]
    }
   ],
   "source": [
    "y_pred_grid = cv.predict(X_test)\n",
    "values = []\n",
    "for i in range(len(y_test.columns)):\n",
    "\n",
    "        values.append([f1_score(y_test.iloc[:, i].values, y_pred_grid[:, i], average='micro'),\n",
    "        precision_score(y_test.iloc[:, i].values, y_pred_grid[:, i], average='micro'),\n",
    "        recall_score(y_test.iloc[:, i].values, y_pred_grid[:, i], average='micro')])\n",
    "        \n",
    "values = pd.DataFrame(values, columns=['f1_score', 'precision', 'recall'], index = y_test.columns)\n",
    "        \n",
    "print(values)"
   ]
  },
  {
   "cell_type": "markdown",
   "metadata": {},
   "source": [
    "### 8. Try improving your model further. Here are a few ideas:\n",
    "* try other machine learning algorithms\n",
    "* add other features besides the TF-IDF"
   ]
  },
  {
   "cell_type": "code",
   "execution_count": 10,
   "metadata": {},
   "outputs": [
    {
     "name": "stdout",
     "output_type": "stream",
     "text": [
      "                        f1_score  precision    recall\n",
      "related                 0.771285   0.771285  0.771285\n",
      "request                 0.896094   0.896094  0.896094\n",
      "offer                   0.995117   0.995117  0.995117\n",
      "aid_related             0.757858   0.757858  0.757858\n",
      "medical_help            0.929051   0.929051  0.929051\n",
      "medical_products        0.956973   0.956973  0.956973\n",
      "search_and_rescue       0.973604   0.973604  0.973604\n",
      "security                0.980012   0.980012  0.980012\n",
      "military                0.972383   0.972383  0.972383\n",
      "child_alone             1.000000   1.000000  1.000000\n",
      "water                   0.961703   0.961703  0.961703\n",
      "food                    0.945682   0.945682  0.945682\n",
      "shelter                 0.942783   0.942783  0.942783\n",
      "clothing                0.987336   0.987336  0.987336\n",
      "money                   0.975435   0.975435  0.975435\n",
      "missing_people          0.988404   0.988404  0.988404\n",
      "refugees                0.966585   0.966585  0.966585\n",
      "death                   0.968264   0.968264  0.968264\n",
      "other_aid               0.870919   0.870919  0.870919\n",
      "infrastructure_related  0.934239   0.934239  0.934239\n",
      "transport               0.962618   0.962618  0.962618\n",
      "buildings               0.956820   0.956820  0.956820\n",
      "electricity             0.981843   0.981843  0.981843\n",
      "tools                   0.993744   0.993744  0.993744\n",
      "hospitals               0.988251   0.988251  0.988251\n",
      "shops                   0.994355   0.994355  0.994355\n",
      "aid_centers             0.986878   0.986878  0.986878\n",
      "other_infrastructure    0.953769   0.953769  0.953769\n",
      "weather_related         0.876717   0.876717  0.876717\n",
      "floods                  0.958956   0.958956  0.958956\n",
      "storm                   0.938663   0.938663  0.938663\n",
      "fire                    0.987641   0.987641  0.987641\n",
      "earthquake              0.971163   0.971163  0.971163\n",
      "cold                    0.981538   0.981538  0.981538\n",
      "other_weather           0.954532   0.954532  0.954532\n",
      "direct_report           0.856576   0.856576  0.856576\n"
     ]
    }
   ],
   "source": [
    "# AdaBoost Classifier:\n",
    "pipeline_ada = Pipeline(steps=[\n",
    "    (\"vect\", CountVectorizer(tokenizer=tokenize)),\n",
    "    (\"tfidf\", TfidfTransformer()),\n",
    "    (\"clf\", MultiOutputClassifier(AdaBoostClassifier()))\n",
    "])\n",
    "\n",
    "\n",
    "# Training pipeline:\n",
    "pipeline_ada.fit(X_train, y_train)\n",
    "\n",
    "# Metrics\n",
    "y_pred_ada = pipeline_ada.predict(X_test)\n",
    "values = []\n",
    "for i in range(len(y_test.columns)):\n",
    "\n",
    "        values.append([f1_score(y_test.iloc[:, i].values, y_pred_ada[:, i], average='micro'),\n",
    "        precision_score(y_test.iloc[:, i].values, y_pred_ada[:, i], average='micro'),\n",
    "        recall_score(y_test.iloc[:, i].values, y_pred_ada[:, i], average='micro')])\n",
    "        \n",
    "values = pd.DataFrame(values, columns=['f1_score', 'precision', 'recall'], index = y_test.columns)\n",
    "        \n",
    "print(values)"
   ]
  },
  {
   "cell_type": "markdown",
   "metadata": {},
   "source": [
    "### 9. Export your model as a pickle file"
   ]
  },
  {
   "cell_type": "code",
   "execution_count": 12,
   "metadata": {},
   "outputs": [],
   "source": [
    "# save the model to disk\n",
    "pickle.dump(pipeline_ada, open('classifier.pkl', 'wb'))"
   ]
  },
  {
   "cell_type": "markdown",
   "metadata": {},
   "source": [
    "### 10. Use this notebook to complete `train.py`\n",
    "Use the template file attached in the Resources folder to write a script that runs the steps above to create a database and export a model based on a new dataset specified by the user."
   ]
  },
  {
   "cell_type": "code",
   "execution_count": null,
   "metadata": {},
   "outputs": [],
   "source": []
  }
 ],
 "metadata": {
  "kernelspec": {
   "display_name": "Python 3",
   "language": "python",
   "name": "python3"
  },
  "language_info": {
   "codemirror_mode": {
    "name": "ipython",
    "version": 3
   },
   "file_extension": ".py",
   "mimetype": "text/x-python",
   "name": "python",
   "nbconvert_exporter": "python",
   "pygments_lexer": "ipython3",
   "version": "3.6.3"
  }
 },
 "nbformat": 4,
 "nbformat_minor": 2
}
